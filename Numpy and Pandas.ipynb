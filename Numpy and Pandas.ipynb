{
 "cells": [
  {
   "cell_type": "markdown",
   "id": "3111d43e",
   "metadata": {},
   "source": [
    "### Numpy: Package for Multidimensional array"
   ]
  },
  {
   "cell_type": "raw",
   "id": "950d7150",
   "metadata": {},
   "source": []
  },
  {
   "cell_type": "code",
   "execution_count": 4,
   "id": "c6297fa3",
   "metadata": {},
   "outputs": [],
   "source": [
    "import numpy as np"
   ]
  },
  {
   "cell_type": "code",
   "execution_count": 5,
   "id": "f1380344",
   "metadata": {
    "scrolled": true
   },
   "outputs": [
    {
     "data": {
      "text/plain": [
       "array([6, 7, 8])"
      ]
     },
     "execution_count": 5,
     "metadata": {},
     "output_type": "execute_result"
    }
   ],
   "source": [
    "simple_list=[6,7,8]\n",
    "np.array(simple_list)"
   ]
  },
  {
   "cell_type": "code",
   "execution_count": 6,
   "id": "a35120f0",
   "metadata": {},
   "outputs": [
    {
     "data": {
      "text/plain": [
       "array([[3, 4, 5],\n",
       "       [2, 6, 7],\n",
       "       [1, 8, 9]])"
      ]
     },
     "execution_count": 6,
     "metadata": {},
     "output_type": "execute_result"
    }
   ],
   "source": [
    "list_of_lists=[[3,4,5],[2,6,7],[1,8,9]]\n",
    "np.array(list_of_lists)"
   ]
  },
  {
   "cell_type": "code",
   "execution_count": 7,
   "id": "c1d4dcc8",
   "metadata": {},
   "outputs": [
    {
     "data": {
      "text/plain": [
       "array([ 5,  6,  7,  8,  9, 10, 11, 12, 13, 14, 15, 16, 17, 18, 19])"
      ]
     },
     "execution_count": 7,
     "metadata": {},
     "output_type": "execute_result"
    }
   ],
   "source": [
    "np.arange (5,20)\n",
    "\n",
    "\n",
    "\n",
    "\n",
    "\n",
    "\n"
   ]
  },
  {
   "cell_type": "code",
   "execution_count": 8,
   "id": "1d53f100",
   "metadata": {},
   "outputs": [
    {
     "data": {
      "text/plain": [
       "array([ 1,  2,  3,  4,  5,  6,  7,  8,  9, 10, 11, 12, 13, 14, 15, 16, 17,\n",
       "       18, 19, 20, 21, 22, 23, 24, 25, 26, 27, 28, 29, 30, 31, 32, 33, 34,\n",
       "       35, 36, 37, 38, 39, 40, 41, 42, 43, 44, 45, 46, 47, 48, 49, 50, 51,\n",
       "       52, 53, 54, 55, 56, 57, 58, 59, 60, 61, 62, 63, 64, 65, 66, 67, 68,\n",
       "       69, 70, 71, 72, 73, 74, 75, 76, 77, 78, 79, 80, 81, 82, 83, 84, 85,\n",
       "       86, 87, 88, 89, 90, 91, 92, 93, 94, 95, 96, 97, 98, 99])"
      ]
     },
     "execution_count": 8,
     "metadata": {},
     "output_type": "execute_result"
    }
   ],
   "source": [
    "np.arange(1,100)"
   ]
  },
  {
   "cell_type": "code",
   "execution_count": 9,
   "id": "9a88a5f5",
   "metadata": {},
   "outputs": [
    {
     "data": {
      "text/plain": [
       "array([ 1,  6, 11, 16, 21, 26, 31])"
      ]
     },
     "execution_count": 9,
     "metadata": {},
     "output_type": "execute_result"
    }
   ],
   "source": [
    "np.arange(1,36,5)"
   ]
  },
  {
   "cell_type": "code",
   "execution_count": 10,
   "id": "beb78e50",
   "metadata": {},
   "outputs": [
    {
     "data": {
      "text/plain": [
       "array([0, 1, 2, 3, 4, 5, 6, 7])"
      ]
     },
     "execution_count": 10,
     "metadata": {},
     "output_type": "execute_result"
    }
   ],
   "source": [
    "np.arange(8)"
   ]
  },
  {
   "cell_type": "code",
   "execution_count": 11,
   "id": "a7d036c7",
   "metadata": {},
   "outputs": [
    {
     "data": {
      "text/plain": [
       "array([0., 0., 0., 0., 0., 0., 0., 0., 0., 0.])"
      ]
     },
     "execution_count": 11,
     "metadata": {},
     "output_type": "execute_result"
    }
   ],
   "source": [
    "np.zeros(10)"
   ]
  },
  {
   "cell_type": "code",
   "execution_count": 12,
   "id": "71440633",
   "metadata": {},
   "outputs": [
    {
     "data": {
      "text/plain": [
       "array([0, 0, 0, 0, 0, 0, 0, 0, 0, 0, 0, 0, 0, 0, 0, 0, 0, 0, 0, 0, 0, 0,\n",
       "       0, 0, 0, 0, 0, 0, 0, 0])"
      ]
     },
     "execution_count": 12,
     "metadata": {},
     "output_type": "execute_result"
    }
   ],
   "source": [
    "np.zeros(30,int)"
   ]
  },
  {
   "cell_type": "code",
   "execution_count": 13,
   "id": "ba68afb5",
   "metadata": {},
   "outputs": [
    {
     "data": {
      "text/plain": [
       "array([1, 1, 1, 1, 1, 1, 1, 1, 1, 1, 1, 1, 1, 1, 1, 1, 1, 1, 1, 1])"
      ]
     },
     "execution_count": 13,
     "metadata": {},
     "output_type": "execute_result"
    }
   ],
   "source": [
    "np.ones(20,int)"
   ]
  },
  {
   "cell_type": "code",
   "execution_count": 14,
   "id": "c156cf0a",
   "metadata": {},
   "outputs": [
    {
     "data": {
      "text/plain": [
       "array([[1., 1., 1.],\n",
       "       [1., 1., 1.],\n",
       "       [1., 1., 1.],\n",
       "       [1., 1., 1.]])"
      ]
     },
     "execution_count": 14,
     "metadata": {},
     "output_type": "execute_result"
    }
   ],
   "source": [
    "np.ones((4,3))"
   ]
  },
  {
   "cell_type": "code",
   "execution_count": 15,
   "id": "252f344b",
   "metadata": {},
   "outputs": [
    {
     "data": {
      "text/plain": [
       "array([0.        , 0.66666667, 1.33333333, 2.        ])"
      ]
     },
     "execution_count": 15,
     "metadata": {},
     "output_type": "execute_result"
    }
   ],
   "source": [
    "np.linspace(0,2,4)"
   ]
  },
  {
   "cell_type": "code",
   "execution_count": 16,
   "id": "3b0c83c9",
   "metadata": {},
   "outputs": [
    {
     "data": {
      "text/plain": [
       "array([ 0.        ,  7.14285714, 14.28571429, 21.42857143, 28.57142857,\n",
       "       35.71428571, 42.85714286, 50.        ])"
      ]
     },
     "execution_count": 16,
     "metadata": {},
     "output_type": "execute_result"
    }
   ],
   "source": [
    "np.linspace(0,50,8)"
   ]
  },
  {
   "cell_type": "code",
   "execution_count": 17,
   "id": "142d7970",
   "metadata": {},
   "outputs": [
    {
     "data": {
      "text/plain": [
       "array([[1, 0, 0, 0, 0, 0, 0, 0, 0, 0, 0, 0, 0, 0, 0],\n",
       "       [0, 1, 0, 0, 0, 0, 0, 0, 0, 0, 0, 0, 0, 0, 0],\n",
       "       [0, 0, 1, 0, 0, 0, 0, 0, 0, 0, 0, 0, 0, 0, 0],\n",
       "       [0, 0, 0, 1, 0, 0, 0, 0, 0, 0, 0, 0, 0, 0, 0],\n",
       "       [0, 0, 0, 0, 1, 0, 0, 0, 0, 0, 0, 0, 0, 0, 0],\n",
       "       [0, 0, 0, 0, 0, 1, 0, 0, 0, 0, 0, 0, 0, 0, 0],\n",
       "       [0, 0, 0, 0, 0, 0, 1, 0, 0, 0, 0, 0, 0, 0, 0],\n",
       "       [0, 0, 0, 0, 0, 0, 0, 1, 0, 0, 0, 0, 0, 0, 0],\n",
       "       [0, 0, 0, 0, 0, 0, 0, 0, 1, 0, 0, 0, 0, 0, 0],\n",
       "       [0, 0, 0, 0, 0, 0, 0, 0, 0, 1, 0, 0, 0, 0, 0],\n",
       "       [0, 0, 0, 0, 0, 0, 0, 0, 0, 0, 1, 0, 0, 0, 0],\n",
       "       [0, 0, 0, 0, 0, 0, 0, 0, 0, 0, 0, 1, 0, 0, 0],\n",
       "       [0, 0, 0, 0, 0, 0, 0, 0, 0, 0, 0, 0, 1, 0, 0],\n",
       "       [0, 0, 0, 0, 0, 0, 0, 0, 0, 0, 0, 0, 0, 1, 0],\n",
       "       [0, 0, 0, 0, 0, 0, 0, 0, 0, 0, 0, 0, 0, 0, 1]])"
      ]
     },
     "execution_count": 17,
     "metadata": {},
     "output_type": "execute_result"
    }
   ],
   "source": [
    "np.eye(15,dtype=int)"
   ]
  },
  {
   "cell_type": "code",
   "execution_count": 18,
   "id": "4e3f78b7",
   "metadata": {},
   "outputs": [
    {
     "data": {
      "text/plain": [
       "array([[0.68506303, 0.40742521, 0.58474447, 0.70775594, 0.16472235],\n",
       "       [0.71452035, 0.34220638, 0.59473146, 0.8016018 , 0.41124377],\n",
       "       [0.12918677, 0.31997807, 0.04811567, 0.27231949, 0.2469212 ],\n",
       "       [0.28101237, 0.86068132, 0.55351836, 0.56263199, 0.17334734],\n",
       "       [0.15820185, 0.55023627, 0.997227  , 0.52424533, 0.99581641],\n",
       "       [0.92196891, 0.02462593, 0.69284224, 0.28355803, 0.68873829]])"
      ]
     },
     "execution_count": 18,
     "metadata": {},
     "output_type": "execute_result"
    }
   ],
   "source": [
    "np.random.rand(6,5)"
   ]
  },
  {
   "cell_type": "code",
   "execution_count": 19,
   "id": "bf5e4d94",
   "metadata": {},
   "outputs": [
    {
     "data": {
      "text/plain": [
       "array([[-0.93895792, -1.37515024,  0.25780265,  0.7590627 ],\n",
       "       [ 1.79211427,  0.03562464,  1.33773345, -1.74064187]])"
      ]
     },
     "execution_count": 19,
     "metadata": {},
     "output_type": "execute_result"
    }
   ],
   "source": [
    "arr=np.random.randn(2,4)\n",
    "arr"
   ]
  },
  {
   "cell_type": "code",
   "execution_count": 20,
   "id": "0dfa0f00",
   "metadata": {},
   "outputs": [
    {
     "data": {
      "text/plain": [
       "90"
      ]
     },
     "execution_count": 20,
     "metadata": {},
     "output_type": "execute_result"
    }
   ],
   "source": [
    "np.random.randint(6,100)"
   ]
  },
  {
   "cell_type": "code",
   "execution_count": 21,
   "id": "ec3f38eb",
   "metadata": {},
   "outputs": [
    {
     "data": {
      "text/plain": [
       "array([23, 34, 45, 35, 21, 38, 25, 36, 32, 25, 24, 43, 28, 50, 39, 23, 33,\n",
       "       38, 49, 42, 54, 30, 46, 51, 55, 55, 21, 20, 34, 26, 43, 26, 55, 43,\n",
       "       32, 55, 36, 23, 29, 48, 23, 43, 20, 35, 32, 32, 38, 21, 32, 42, 49,\n",
       "       50, 43, 42, 35, 26, 35, 25, 55, 54, 20, 51, 41, 43, 48, 40, 25, 35,\n",
       "       34, 25, 35, 45, 40, 35, 40, 54, 52, 28, 21, 36, 37, 21, 48, 35, 50,\n",
       "       29, 26, 50, 40, 54, 34, 39, 46, 46, 25, 46, 22, 54, 51, 54])"
      ]
     },
     "execution_count": 21,
     "metadata": {},
     "output_type": "execute_result"
    }
   ],
   "source": [
    "np.random.randint(20,56,100)"
   ]
  },
  {
   "cell_type": "code",
   "execution_count": 22,
   "id": "0f26c6b2",
   "metadata": {},
   "outputs": [
    {
     "data": {
      "text/plain": [
       "array([ 0,  1,  2,  3,  4,  5,  6,  7,  8,  9, 10, 11, 12, 13, 14, 15, 16,\n",
       "       17, 18, 19, 20, 21, 22, 23, 24, 25, 26, 27, 28, 29, 30, 31, 32, 33,\n",
       "       34])"
      ]
     },
     "execution_count": 22,
     "metadata": {},
     "output_type": "execute_result"
    }
   ],
   "source": [
    "sample_array=np.arange(35)\n",
    "sample_array"
   ]
  },
  {
   "cell_type": "code",
   "execution_count": 23,
   "id": "dc8327ef",
   "metadata": {},
   "outputs": [
    {
     "data": {
      "text/plain": [
       "array([9, 5, 1, 6, 3, 7, 1, 2, 1, 1, 2, 8, 7, 8, 7, 4, 1, 3, 0, 7, 0, 1,\n",
       "       0, 9, 2, 9, 4, 6, 1, 6, 3, 8, 4, 6, 8, 4, 0, 8, 5, 2, 2, 3, 5, 0,\n",
       "       3, 8, 0, 6, 6, 3])"
      ]
     },
     "execution_count": 23,
     "metadata": {},
     "output_type": "execute_result"
    }
   ],
   "source": [
    "rand_array=np.random.randint(0,10,50)\n",
    "rand_array"
   ]
  },
  {
   "cell_type": "code",
   "execution_count": 24,
   "id": "54c99a76",
   "metadata": {},
   "outputs": [
    {
     "data": {
      "text/plain": [
       "array([[ 0,  1,  2,  3,  4,  5,  6],\n",
       "       [ 7,  8,  9, 10, 11, 12, 13],\n",
       "       [14, 15, 16, 17, 18, 19, 20],\n",
       "       [21, 22, 23, 24, 25, 26, 27],\n",
       "       [28, 29, 30, 31, 32, 33, 34]])"
      ]
     },
     "execution_count": 24,
     "metadata": {},
     "output_type": "execute_result"
    }
   ],
   "source": [
    "sample_array.reshape(5,7)"
   ]
  },
  {
   "cell_type": "code",
   "execution_count": 25,
   "id": "ad8e4442",
   "metadata": {},
   "outputs": [
    {
     "data": {
      "text/plain": [
       "9"
      ]
     },
     "execution_count": 25,
     "metadata": {},
     "output_type": "execute_result"
    }
   ],
   "source": [
    "rand_array.max()"
   ]
  },
  {
   "cell_type": "code",
   "execution_count": 26,
   "id": "17225ecb",
   "metadata": {},
   "outputs": [
    {
     "data": {
      "text/plain": [
       "0"
      ]
     },
     "execution_count": 26,
     "metadata": {},
     "output_type": "execute_result"
    }
   ],
   "source": [
    "rand_array.argmax()"
   ]
  },
  {
   "cell_type": "code",
   "execution_count": 27,
   "id": "fbb37fff",
   "metadata": {},
   "outputs": [
    {
     "data": {
      "text/plain": [
       "array([[1., 0., 0., 0., 0.],\n",
       "       [0., 1., 0., 0., 0.],\n",
       "       [0., 0., 1., 0., 0.],\n",
       "       [0., 0., 0., 1., 0.],\n",
       "       [0., 0., 0., 0., 1.]])"
      ]
     },
     "execution_count": 27,
     "metadata": {},
     "output_type": "execute_result"
    }
   ],
   "source": [
    "a=np.eye(5)\n",
    "a"
   ]
  },
  {
   "cell_type": "code",
   "execution_count": 28,
   "id": "738c40f4",
   "metadata": {},
   "outputs": [
    {
     "data": {
      "text/plain": [
       "array([[1., 0., 0., 0., 0.],\n",
       "       [0., 1., 0., 0., 0.],\n",
       "       [0., 0., 1., 0., 0.],\n",
       "       [0., 0., 0., 1., 0.],\n",
       "       [0., 0., 0., 0., 1.]])"
      ]
     },
     "execution_count": 28,
     "metadata": {},
     "output_type": "execute_result"
    }
   ],
   "source": [
    "a.T"
   ]
  },
  {
   "cell_type": "code",
   "execution_count": 29,
   "id": "071e65de",
   "metadata": {},
   "outputs": [
    {
     "data": {
      "text/plain": [
       "array([[0.18796398, 0.96861226, 0.78752849],\n",
       "       [0.92713203, 0.10981434, 0.92919525]])"
      ]
     },
     "execution_count": 29,
     "metadata": {},
     "output_type": "execute_result"
    }
   ],
   "source": [
    "a=np.random.rand(2,3)\n",
    "a"
   ]
  },
  {
   "cell_type": "code",
   "execution_count": 30,
   "id": "cdc844d9",
   "metadata": {},
   "outputs": [
    {
     "data": {
      "text/plain": [
       "array([[0.18796398, 0.92713203],\n",
       "       [0.96861226, 0.10981434],\n",
       "       [0.78752849, 0.92919525]])"
      ]
     },
     "execution_count": 30,
     "metadata": {},
     "output_type": "execute_result"
    }
   ],
   "source": [
    "a.T"
   ]
  },
  {
   "cell_type": "code",
   "execution_count": 31,
   "id": "f2f09d87",
   "metadata": {},
   "outputs": [
    {
     "data": {
      "text/plain": [
       "array([10, 11, 12, 13, 14, 15, 16, 17, 18, 19, 20])"
      ]
     },
     "execution_count": 31,
     "metadata": {},
     "output_type": "execute_result"
    }
   ],
   "source": [
    "sample_array=np.arange(10,21)\n",
    "sample_array"
   ]
  },
  {
   "cell_type": "code",
   "execution_count": 32,
   "id": "e01f042d",
   "metadata": {},
   "outputs": [
    {
     "data": {
      "text/plain": [
       "20"
      ]
     },
     "execution_count": 32,
     "metadata": {},
     "output_type": "execute_result"
    }
   ],
   "source": [
    "sample_array[10]"
   ]
  },
  {
   "cell_type": "code",
   "execution_count": 33,
   "id": "e1ef4885",
   "metadata": {},
   "outputs": [
    {
     "data": {
      "text/plain": [
       "array([12, 13, 14])"
      ]
     },
     "execution_count": 33,
     "metadata": {},
     "output_type": "execute_result"
    }
   ],
   "source": [
    "sample_array[2:5]"
   ]
  },
  {
   "cell_type": "code",
   "execution_count": 34,
   "id": "1696ad50",
   "metadata": {},
   "outputs": [
    {
     "data": {
      "text/plain": [
       "array([ 10, 100, 100, 100, 100,  15,  16,  17,  18,  19,  20])"
      ]
     },
     "execution_count": 34,
     "metadata": {},
     "output_type": "execute_result"
    }
   ],
   "source": [
    "sample_array[1:5]=100\n",
    "sample_array"
   ]
  },
  {
   "cell_type": "code",
   "execution_count": 35,
   "id": "1770fd68",
   "metadata": {},
   "outputs": [
    {
     "data": {
      "text/plain": [
       "array([10, 11, 12, 13, 14, 15, 16, 17, 18, 19, 20])"
      ]
     },
     "execution_count": 35,
     "metadata": {},
     "output_type": "execute_result"
    }
   ],
   "source": [
    "sample_array=np.arange(10,21)\n",
    "sample_array"
   ]
  },
  {
   "cell_type": "code",
   "execution_count": 36,
   "id": "9764bca7",
   "metadata": {},
   "outputs": [
    {
     "data": {
      "text/plain": [
       "array([10, 11, 12, 13, 14])"
      ]
     },
     "execution_count": 36,
     "metadata": {},
     "output_type": "execute_result"
    }
   ],
   "source": [
    "sample_array[0:5]"
   ]
  },
  {
   "cell_type": "code",
   "execution_count": 37,
   "id": "fd494a40",
   "metadata": {},
   "outputs": [
    {
     "data": {
      "text/plain": [
       "array([10, 11, 12, 13])"
      ]
     },
     "execution_count": 37,
     "metadata": {},
     "output_type": "execute_result"
    }
   ],
   "source": [
    "subset_sample_array= sample_array[0:4]\n",
    "subset_sample_array"
   ]
  },
  {
   "cell_type": "code",
   "execution_count": 38,
   "id": "6bdf2e49",
   "metadata": {},
   "outputs": [
    {
     "data": {
      "text/plain": [
       "array([1001, 1001, 1001, 1001])"
      ]
     },
     "execution_count": 38,
     "metadata": {},
     "output_type": "execute_result"
    }
   ],
   "source": [
    "subset_sample_array[:]=1001\n",
    "subset_sample_array"
   ]
  },
  {
   "cell_type": "markdown",
   "id": "6b04ce78",
   "metadata": {},
   "source": [
    "### Two-Dimensional array"
   ]
  },
  {
   "cell_type": "code",
   "execution_count": 39,
   "id": "70ba8f74",
   "metadata": {},
   "outputs": [],
   "source": [
    "import numpy as np"
   ]
  },
  {
   "cell_type": "code",
   "execution_count": 40,
   "id": "37ec66c4",
   "metadata": {},
   "outputs": [
    {
     "data": {
      "text/plain": [
       "array([[50,  3,  2],\n",
       "       [ 6,  8,  9],\n",
       "       [23, 67, 89]])"
      ]
     },
     "execution_count": 40,
     "metadata": {},
     "output_type": "execute_result"
    }
   ],
   "source": [
    "sample_matrix=np.array([[50,3,2,],[6,8,9],[23,67,89]])\n",
    "sample_matrix"
   ]
  },
  {
   "cell_type": "code",
   "execution_count": 41,
   "id": "ac1befed",
   "metadata": {},
   "outputs": [
    {
     "data": {
      "text/plain": [
       "67"
      ]
     },
     "execution_count": 41,
     "metadata": {},
     "output_type": "execute_result"
    }
   ],
   "source": [
    "sample_matrix[2,1]"
   ]
  },
  {
   "cell_type": "code",
   "execution_count": 42,
   "id": "df42eeda",
   "metadata": {},
   "outputs": [
    {
     "data": {
      "text/plain": [
       "array([23, 67, 89])"
      ]
     },
     "execution_count": 42,
     "metadata": {},
     "output_type": "execute_result"
    }
   ],
   "source": [
    "sample_matrix[2,:]"
   ]
  },
  {
   "cell_type": "code",
   "execution_count": 43,
   "id": "2ed0c1c9",
   "metadata": {},
   "outputs": [
    {
     "data": {
      "text/plain": [
       "array([6, 8, 9])"
      ]
     },
     "execution_count": 43,
     "metadata": {},
     "output_type": "execute_result"
    }
   ],
   "source": [
    "sample_matrix[1]"
   ]
  },
  {
   "cell_type": "code",
   "execution_count": 44,
   "id": "da5379c8",
   "metadata": {},
   "outputs": [
    {
     "data": {
      "text/plain": [
       "array([[50,  3],\n",
       "       [ 6,  8],\n",
       "       [23, 67]])"
      ]
     },
     "execution_count": 44,
     "metadata": {},
     "output_type": "execute_result"
    }
   ],
   "source": [
    "sample_matrix[:,(0,1)]"
   ]
  },
  {
   "cell_type": "markdown",
   "id": "02456438",
   "metadata": {},
   "source": [
    "### selection techniques"
   ]
  },
  {
   "cell_type": "code",
   "execution_count": 45,
   "id": "37938175",
   "metadata": {},
   "outputs": [],
   "source": [
    "sample_array=np.arange(1,30)"
   ]
  },
  {
   "cell_type": "code",
   "execution_count": 46,
   "id": "6d22bf2c",
   "metadata": {},
   "outputs": [
    {
     "data": {
      "text/plain": [
       "array([ 1,  2,  3,  4,  5,  6,  7,  8,  9, 10, 11, 12, 13, 14, 15, 16, 17,\n",
       "       18, 19, 20, 21, 22, 23, 24, 25, 26, 27, 28, 29])"
      ]
     },
     "execution_count": 46,
     "metadata": {},
     "output_type": "execute_result"
    }
   ],
   "source": [
    "sample_array"
   ]
  },
  {
   "cell_type": "code",
   "execution_count": 47,
   "id": "fc833764",
   "metadata": {},
   "outputs": [
    {
     "data": {
      "text/plain": [
       "array([ 2,  4,  6,  8, 10, 12, 14, 16, 18, 20, 22, 24, 26, 28, 30, 32, 34,\n",
       "       36, 38, 40, 42, 44, 46, 48, 50, 52, 54, 56, 58])"
      ]
     },
     "execution_count": 47,
     "metadata": {},
     "output_type": "execute_result"
    }
   ],
   "source": [
    "sample_array+sample_array"
   ]
  },
  {
   "cell_type": "code",
   "execution_count": 48,
   "id": "fd826f3d",
   "metadata": {},
   "outputs": [
    {
     "data": {
      "text/plain": [
       "array([2.71828183e+00, 7.38905610e+00, 2.00855369e+01, 5.45981500e+01,\n",
       "       1.48413159e+02, 4.03428793e+02, 1.09663316e+03, 2.98095799e+03,\n",
       "       8.10308393e+03, 2.20264658e+04, 5.98741417e+04, 1.62754791e+05,\n",
       "       4.42413392e+05, 1.20260428e+06, 3.26901737e+06, 8.88611052e+06,\n",
       "       2.41549528e+07, 6.56599691e+07, 1.78482301e+08, 4.85165195e+08,\n",
       "       1.31881573e+09, 3.58491285e+09, 9.74480345e+09, 2.64891221e+10,\n",
       "       7.20048993e+10, 1.95729609e+11, 5.32048241e+11, 1.44625706e+12,\n",
       "       3.93133430e+12])"
      ]
     },
     "execution_count": 48,
     "metadata": {},
     "output_type": "execute_result"
    }
   ],
   "source": [
    "np.exp(sample_array)"
   ]
  },
  {
   "cell_type": "code",
   "execution_count": 49,
   "id": "84d7578f",
   "metadata": {},
   "outputs": [
    {
     "data": {
      "text/plain": [
       "array([1.        , 1.41421356, 1.73205081, 2.        , 2.23606798,\n",
       "       2.44948974, 2.64575131, 2.82842712, 3.        , 3.16227766,\n",
       "       3.31662479, 3.46410162, 3.60555128, 3.74165739, 3.87298335,\n",
       "       4.        , 4.12310563, 4.24264069, 4.35889894, 4.47213595,\n",
       "       4.58257569, 4.69041576, 4.79583152, 4.89897949, 5.        ,\n",
       "       5.09901951, 5.19615242, 5.29150262, 5.38516481])"
      ]
     },
     "execution_count": 49,
     "metadata": {},
     "output_type": "execute_result"
    }
   ],
   "source": [
    "np.sqrt(sample_array)"
   ]
  },
  {
   "cell_type": "code",
   "execution_count": 50,
   "id": "17418c6d",
   "metadata": {},
   "outputs": [
    {
     "data": {
      "text/plain": [
       "array([0.        , 0.69314718, 1.09861229, 1.38629436, 1.60943791,\n",
       "       1.79175947, 1.94591015, 2.07944154, 2.19722458, 2.30258509,\n",
       "       2.39789527, 2.48490665, 2.56494936, 2.63905733, 2.7080502 ,\n",
       "       2.77258872, 2.83321334, 2.89037176, 2.94443898, 2.99573227,\n",
       "       3.04452244, 3.09104245, 3.13549422, 3.17805383, 3.21887582,\n",
       "       3.25809654, 3.29583687, 3.33220451, 3.36729583])"
      ]
     },
     "execution_count": 50,
     "metadata": {},
     "output_type": "execute_result"
    }
   ],
   "source": [
    "np.log(sample_array)"
   ]
  },
  {
   "cell_type": "code",
   "execution_count": 51,
   "id": "3a9dd88c",
   "metadata": {},
   "outputs": [
    {
     "data": {
      "text/plain": [
       "29"
      ]
     },
     "execution_count": 51,
     "metadata": {},
     "output_type": "execute_result"
    }
   ],
   "source": [
    "np.max(sample_array)"
   ]
  },
  {
   "cell_type": "code",
   "execution_count": 52,
   "id": "cb5a9686",
   "metadata": {},
   "outputs": [
    {
     "data": {
      "text/plain": [
       "1"
      ]
     },
     "execution_count": 52,
     "metadata": {},
     "output_type": "execute_result"
    }
   ],
   "source": [
    "np.min(sample_array)"
   ]
  },
  {
   "cell_type": "code",
   "execution_count": 53,
   "id": "fa65aa82",
   "metadata": {},
   "outputs": [
    {
     "data": {
      "text/plain": [
       "28"
      ]
     },
     "execution_count": 53,
     "metadata": {},
     "output_type": "execute_result"
    }
   ],
   "source": [
    "np.argmax(sample_array)"
   ]
  },
  {
   "cell_type": "code",
   "execution_count": 54,
   "id": "5ebc5a7a",
   "metadata": {},
   "outputs": [
    {
     "data": {
      "text/plain": [
       "0"
      ]
     },
     "execution_count": 54,
     "metadata": {},
     "output_type": "execute_result"
    }
   ],
   "source": [
    "np.argmin(sample_array)"
   ]
  },
  {
   "cell_type": "code",
   "execution_count": 55,
   "id": "b0436ed2",
   "metadata": {},
   "outputs": [
    {
     "data": {
      "text/plain": [
       "array([  1,   4,   9,  16,  25,  36,  49,  64,  81, 100, 121, 144, 169,\n",
       "       196, 225, 256, 289, 324, 361, 400, 441, 484, 529, 576, 625, 676,\n",
       "       729, 784, 841])"
      ]
     },
     "execution_count": 55,
     "metadata": {},
     "output_type": "execute_result"
    }
   ],
   "source": [
    "np.square(sample_array)"
   ]
  },
  {
   "cell_type": "code",
   "execution_count": 56,
   "id": "383fc33e",
   "metadata": {},
   "outputs": [
    {
     "data": {
      "text/plain": [
       "8.366600265340756"
      ]
     },
     "execution_count": 56,
     "metadata": {},
     "output_type": "execute_result"
    }
   ],
   "source": [
    "np.std(sample_array)"
   ]
  },
  {
   "cell_type": "code",
   "execution_count": 57,
   "id": "078bf9e2",
   "metadata": {},
   "outputs": [
    {
     "data": {
      "text/plain": [
       "70.0"
      ]
     },
     "execution_count": 57,
     "metadata": {},
     "output_type": "execute_result"
    }
   ],
   "source": [
    "np.var(sample_array)"
   ]
  },
  {
   "cell_type": "code",
   "execution_count": 58,
   "id": "19ea3717",
   "metadata": {},
   "outputs": [
    {
     "data": {
      "text/plain": [
       "15.0"
      ]
     },
     "execution_count": 58,
     "metadata": {},
     "output_type": "execute_result"
    }
   ],
   "source": [
    "np.mean(sample_array)"
   ]
  },
  {
   "cell_type": "code",
   "execution_count": null,
   "id": "4386b1b3",
   "metadata": {},
   "outputs": [],
   "source": [
    "sports=np.array(['golf','cricket','fball','cricket'])\n",
    "np.unique(sports)"
   ]
  },
  {
   "cell_type": "code",
   "execution_count": null,
   "id": "c3232d4f",
   "metadata": {},
   "outputs": [],
   "source": [
    "### pandas\n"
   ]
  },
  {
   "cell_type": "code",
   "execution_count": 3,
   "id": "94d5e01b",
   "metadata": {},
   "outputs": [],
   "source": [
    "import numpy as np\n",
    "import pandas as pd"
   ]
  },
  {
   "cell_type": "markdown",
   "id": "bb7265e9",
   "metadata": {},
   "source": [
    "### Pandas dataframes and indexing"
   ]
  },
  {
   "cell_type": "code",
   "execution_count": 5,
   "id": "acd14991",
   "metadata": {},
   "outputs": [
    {
     "data": {
      "text/plain": [
       "cricket       2\n",
       "football      4\n",
       "basketball    5\n",
       "golf          6\n",
       "dtype: int64"
      ]
     },
     "execution_count": 5,
     "metadata": {},
     "output_type": "execute_result"
    }
   ],
   "source": [
    "sports1=pd.Series([2,4,5,6],index=['cricket','football','basketball','golf'])\n",
    "sports1"
   ]
  },
  {
   "cell_type": "code",
   "execution_count": 7,
   "id": "13ae0e81",
   "metadata": {},
   "outputs": [
    {
     "data": {
      "text/plain": [
       "4"
      ]
     },
     "execution_count": 7,
     "metadata": {},
     "output_type": "execute_result"
    }
   ],
   "source": [
    "sports1['football']"
   ]
  },
  {
   "cell_type": "code",
   "execution_count": 8,
   "id": "c0f0a4f2",
   "metadata": {},
   "outputs": [
    {
     "data": {
      "text/plain": [
       "cricket       8\n",
       "baseball      9\n",
       "basketball    7\n",
       "golf          4\n",
       "dtype: int64"
      ]
     },
     "execution_count": 8,
     "metadata": {},
     "output_type": "execute_result"
    }
   ],
   "source": [
    "sports2=pd.Series([8,9,7,4],index=['cricket','baseball','basketball','golf'])\n",
    "sports2"
   ]
  },
  {
   "cell_type": "code",
   "execution_count": 9,
   "id": "7d58bccc",
   "metadata": {},
   "outputs": [
    {
     "data": {
      "text/plain": [
       "baseball       NaN\n",
       "basketball    12.0\n",
       "cricket       10.0\n",
       "football       NaN\n",
       "golf          10.0\n",
       "dtype: float64"
      ]
     },
     "execution_count": 9,
     "metadata": {},
     "output_type": "execute_result"
    }
   ],
   "source": [
    "sports1+sports2"
   ]
  },
  {
   "cell_type": "code",
   "execution_count": 11,
   "id": "e19aee80",
   "metadata": {},
   "outputs": [
    {
     "data": {
      "text/html": [
       "<div>\n",
       "<style scoped>\n",
       "    .dataframe tbody tr th:only-of-type {\n",
       "        vertical-align: middle;\n",
       "    }\n",
       "\n",
       "    .dataframe tbody tr th {\n",
       "        vertical-align: top;\n",
       "    }\n",
       "\n",
       "    .dataframe thead th {\n",
       "        text-align: right;\n",
       "    }\n",
       "</style>\n",
       "<table border=\"1\" class=\"dataframe\">\n",
       "  <thead>\n",
       "    <tr style=\"text-align: right;\">\n",
       "      <th></th>\n",
       "      <th>Score1</th>\n",
       "      <th>Score2</th>\n",
       "      <th>Score3</th>\n",
       "      <th>Score4</th>\n",
       "      <th>Score5</th>\n",
       "    </tr>\n",
       "  </thead>\n",
       "  <tbody>\n",
       "    <tr>\n",
       "      <th>A</th>\n",
       "      <td>0.244003</td>\n",
       "      <td>0.261064</td>\n",
       "      <td>0.484532</td>\n",
       "      <td>0.439343</td>\n",
       "      <td>0.440695</td>\n",
       "    </tr>\n",
       "    <tr>\n",
       "      <th>B</th>\n",
       "      <td>0.924249</td>\n",
       "      <td>0.350629</td>\n",
       "      <td>0.451532</td>\n",
       "      <td>0.920795</td>\n",
       "      <td>0.501744</td>\n",
       "    </tr>\n",
       "    <tr>\n",
       "      <th>C</th>\n",
       "      <td>0.033633</td>\n",
       "      <td>0.303336</td>\n",
       "      <td>0.295935</td>\n",
       "      <td>0.778055</td>\n",
       "      <td>0.478633</td>\n",
       "    </tr>\n",
       "    <tr>\n",
       "      <th>D</th>\n",
       "      <td>0.493485</td>\n",
       "      <td>0.134175</td>\n",
       "      <td>0.533664</td>\n",
       "      <td>0.849704</td>\n",
       "      <td>0.948651</td>\n",
       "    </tr>\n",
       "    <tr>\n",
       "      <th>E</th>\n",
       "      <td>0.558038</td>\n",
       "      <td>0.527210</td>\n",
       "      <td>0.705029</td>\n",
       "      <td>0.135567</td>\n",
       "      <td>0.916620</td>\n",
       "    </tr>\n",
       "    <tr>\n",
       "      <th>F</th>\n",
       "      <td>0.366130</td>\n",
       "      <td>0.239166</td>\n",
       "      <td>0.099890</td>\n",
       "      <td>0.332609</td>\n",
       "      <td>0.456562</td>\n",
       "    </tr>\n",
       "    <tr>\n",
       "      <th>G</th>\n",
       "      <td>0.461912</td>\n",
       "      <td>0.181772</td>\n",
       "      <td>0.058749</td>\n",
       "      <td>0.753386</td>\n",
       "      <td>0.490354</td>\n",
       "    </tr>\n",
       "    <tr>\n",
       "      <th>H</th>\n",
       "      <td>0.670039</td>\n",
       "      <td>0.613087</td>\n",
       "      <td>0.078218</td>\n",
       "      <td>0.022264</td>\n",
       "      <td>0.611517</td>\n",
       "    </tr>\n",
       "  </tbody>\n",
       "</table>\n",
       "</div>"
      ],
      "text/plain": [
       "     Score1    Score2    Score3    Score4    Score5\n",
       "A  0.244003  0.261064  0.484532  0.439343  0.440695\n",
       "B  0.924249  0.350629  0.451532  0.920795  0.501744\n",
       "C  0.033633  0.303336  0.295935  0.778055  0.478633\n",
       "D  0.493485  0.134175  0.533664  0.849704  0.948651\n",
       "E  0.558038  0.527210  0.705029  0.135567  0.916620\n",
       "F  0.366130  0.239166  0.099890  0.332609  0.456562\n",
       "G  0.461912  0.181772  0.058749  0.753386  0.490354\n",
       "H  0.670039  0.613087  0.078218  0.022264  0.611517"
      ]
     },
     "execution_count": 11,
     "metadata": {},
     "output_type": "execute_result"
    }
   ],
   "source": [
    "df1=pd.DataFrame(np.random.rand(8,5),index='A B C D E F G H'.split(),columns='Score1 Score2 Score3 Score4 Score5'.split())\n",
    "df1"
   ]
  },
  {
   "cell_type": "code",
   "execution_count": 12,
   "id": "58dc1e72",
   "metadata": {},
   "outputs": [
    {
     "data": {
      "text/plain": [
       "A    0.244003\n",
       "B    0.924249\n",
       "C    0.033633\n",
       "D    0.493485\n",
       "E    0.558038\n",
       "F    0.366130\n",
       "G    0.461912\n",
       "H    0.670039\n",
       "Name: Score1, dtype: float64"
      ]
     },
     "execution_count": 12,
     "metadata": {},
     "output_type": "execute_result"
    }
   ],
   "source": [
    "df1[\"Score1\"]"
   ]
  },
  {
   "cell_type": "code",
   "execution_count": 14,
   "id": "c373688d",
   "metadata": {},
   "outputs": [
    {
     "data": {
      "text/html": [
       "<div>\n",
       "<style scoped>\n",
       "    .dataframe tbody tr th:only-of-type {\n",
       "        vertical-align: middle;\n",
       "    }\n",
       "\n",
       "    .dataframe tbody tr th {\n",
       "        vertical-align: top;\n",
       "    }\n",
       "\n",
       "    .dataframe thead th {\n",
       "        text-align: right;\n",
       "    }\n",
       "</style>\n",
       "<table border=\"1\" class=\"dataframe\">\n",
       "  <thead>\n",
       "    <tr style=\"text-align: right;\">\n",
       "      <th></th>\n",
       "      <th>Score1</th>\n",
       "      <th>Score2</th>\n",
       "    </tr>\n",
       "  </thead>\n",
       "  <tbody>\n",
       "    <tr>\n",
       "      <th>A</th>\n",
       "      <td>0.244003</td>\n",
       "      <td>0.261064</td>\n",
       "    </tr>\n",
       "    <tr>\n",
       "      <th>B</th>\n",
       "      <td>0.924249</td>\n",
       "      <td>0.350629</td>\n",
       "    </tr>\n",
       "    <tr>\n",
       "      <th>C</th>\n",
       "      <td>0.033633</td>\n",
       "      <td>0.303336</td>\n",
       "    </tr>\n",
       "    <tr>\n",
       "      <th>D</th>\n",
       "      <td>0.493485</td>\n",
       "      <td>0.134175</td>\n",
       "    </tr>\n",
       "    <tr>\n",
       "      <th>E</th>\n",
       "      <td>0.558038</td>\n",
       "      <td>0.527210</td>\n",
       "    </tr>\n",
       "    <tr>\n",
       "      <th>F</th>\n",
       "      <td>0.366130</td>\n",
       "      <td>0.239166</td>\n",
       "    </tr>\n",
       "    <tr>\n",
       "      <th>G</th>\n",
       "      <td>0.461912</td>\n",
       "      <td>0.181772</td>\n",
       "    </tr>\n",
       "    <tr>\n",
       "      <th>H</th>\n",
       "      <td>0.670039</td>\n",
       "      <td>0.613087</td>\n",
       "    </tr>\n",
       "  </tbody>\n",
       "</table>\n",
       "</div>"
      ],
      "text/plain": [
       "     Score1    Score2\n",
       "A  0.244003  0.261064\n",
       "B  0.924249  0.350629\n",
       "C  0.033633  0.303336\n",
       "D  0.493485  0.134175\n",
       "E  0.558038  0.527210\n",
       "F  0.366130  0.239166\n",
       "G  0.461912  0.181772\n",
       "H  0.670039  0.613087"
      ]
     },
     "execution_count": 14,
     "metadata": {},
     "output_type": "execute_result"
    }
   ],
   "source": [
    "df1[[\"Score1\",\"Score2\"]]"
   ]
  },
  {
   "cell_type": "code",
   "execution_count": 18,
   "id": "73c2a60c",
   "metadata": {},
   "outputs": [
    {
     "data": {
      "text/html": [
       "<div>\n",
       "<style scoped>\n",
       "    .dataframe tbody tr th:only-of-type {\n",
       "        vertical-align: middle;\n",
       "    }\n",
       "\n",
       "    .dataframe tbody tr th {\n",
       "        vertical-align: top;\n",
       "    }\n",
       "\n",
       "    .dataframe thead th {\n",
       "        text-align: right;\n",
       "    }\n",
       "</style>\n",
       "<table border=\"1\" class=\"dataframe\">\n",
       "  <thead>\n",
       "    <tr style=\"text-align: right;\">\n",
       "      <th></th>\n",
       "      <th>Score1</th>\n",
       "      <th>Score2</th>\n",
       "      <th>Score3</th>\n",
       "      <th>Score4</th>\n",
       "      <th>Score5</th>\n",
       "      <th>Score6</th>\n",
       "    </tr>\n",
       "  </thead>\n",
       "  <tbody>\n",
       "    <tr>\n",
       "      <th>A</th>\n",
       "      <td>0.244003</td>\n",
       "      <td>0.261064</td>\n",
       "      <td>0.484532</td>\n",
       "      <td>0.439343</td>\n",
       "      <td>0.440695</td>\n",
       "      <td>0.989599</td>\n",
       "    </tr>\n",
       "    <tr>\n",
       "      <th>B</th>\n",
       "      <td>0.924249</td>\n",
       "      <td>0.350629</td>\n",
       "      <td>0.451532</td>\n",
       "      <td>0.920795</td>\n",
       "      <td>0.501744</td>\n",
       "      <td>1.726410</td>\n",
       "    </tr>\n",
       "    <tr>\n",
       "      <th>C</th>\n",
       "      <td>0.033633</td>\n",
       "      <td>0.303336</td>\n",
       "      <td>0.295935</td>\n",
       "      <td>0.778055</td>\n",
       "      <td>0.478633</td>\n",
       "      <td>0.632904</td>\n",
       "    </tr>\n",
       "    <tr>\n",
       "      <th>D</th>\n",
       "      <td>0.493485</td>\n",
       "      <td>0.134175</td>\n",
       "      <td>0.533664</td>\n",
       "      <td>0.849704</td>\n",
       "      <td>0.948651</td>\n",
       "      <td>1.161324</td>\n",
       "    </tr>\n",
       "    <tr>\n",
       "      <th>E</th>\n",
       "      <td>0.558038</td>\n",
       "      <td>0.527210</td>\n",
       "      <td>0.705029</td>\n",
       "      <td>0.135567</td>\n",
       "      <td>0.916620</td>\n",
       "      <td>1.790277</td>\n",
       "    </tr>\n",
       "    <tr>\n",
       "      <th>F</th>\n",
       "      <td>0.366130</td>\n",
       "      <td>0.239166</td>\n",
       "      <td>0.099890</td>\n",
       "      <td>0.332609</td>\n",
       "      <td>0.456562</td>\n",
       "      <td>0.705186</td>\n",
       "    </tr>\n",
       "    <tr>\n",
       "      <th>G</th>\n",
       "      <td>0.461912</td>\n",
       "      <td>0.181772</td>\n",
       "      <td>0.058749</td>\n",
       "      <td>0.753386</td>\n",
       "      <td>0.490354</td>\n",
       "      <td>0.702433</td>\n",
       "    </tr>\n",
       "    <tr>\n",
       "      <th>H</th>\n",
       "      <td>0.670039</td>\n",
       "      <td>0.613087</td>\n",
       "      <td>0.078218</td>\n",
       "      <td>0.022264</td>\n",
       "      <td>0.611517</td>\n",
       "      <td>1.361344</td>\n",
       "    </tr>\n",
       "  </tbody>\n",
       "</table>\n",
       "</div>"
      ],
      "text/plain": [
       "     Score1    Score2    Score3    Score4    Score5    Score6\n",
       "A  0.244003  0.261064  0.484532  0.439343  0.440695  0.989599\n",
       "B  0.924249  0.350629  0.451532  0.920795  0.501744  1.726410\n",
       "C  0.033633  0.303336  0.295935  0.778055  0.478633  0.632904\n",
       "D  0.493485  0.134175  0.533664  0.849704  0.948651  1.161324\n",
       "E  0.558038  0.527210  0.705029  0.135567  0.916620  1.790277\n",
       "F  0.366130  0.239166  0.099890  0.332609  0.456562  0.705186\n",
       "G  0.461912  0.181772  0.058749  0.753386  0.490354  0.702433\n",
       "H  0.670039  0.613087  0.078218  0.022264  0.611517  1.361344"
      ]
     },
     "execution_count": 18,
     "metadata": {},
     "output_type": "execute_result"
    }
   ],
   "source": [
    "df1['Score6']=df1['Score1']+df1['Score2']+df1['Score3']\n",
    "df1"
   ]
  },
  {
   "cell_type": "code",
   "execution_count": 20,
   "id": "986dd8c3",
   "metadata": {},
   "outputs": [
    {
     "data": {
      "text/html": [
       "<div>\n",
       "<style scoped>\n",
       "    .dataframe tbody tr th:only-of-type {\n",
       "        vertical-align: middle;\n",
       "    }\n",
       "\n",
       "    .dataframe tbody tr th {\n",
       "        vertical-align: top;\n",
       "    }\n",
       "\n",
       "    .dataframe thead th {\n",
       "        text-align: right;\n",
       "    }\n",
       "</style>\n",
       "<table border=\"1\" class=\"dataframe\">\n",
       "  <thead>\n",
       "    <tr style=\"text-align: right;\">\n",
       "      <th></th>\n",
       "      <th>ID</th>\n",
       "      <th>Name</th>\n",
       "      <th>Profit</th>\n",
       "    </tr>\n",
       "  </thead>\n",
       "  <tbody>\n",
       "    <tr>\n",
       "      <th>0</th>\n",
       "      <td>405</td>\n",
       "      <td>Janvi</td>\n",
       "      <td>50</td>\n",
       "    </tr>\n",
       "    <tr>\n",
       "      <th>1</th>\n",
       "      <td>509</td>\n",
       "      <td>Shiven</td>\n",
       "      <td>90</td>\n",
       "    </tr>\n",
       "    <tr>\n",
       "      <th>2</th>\n",
       "      <td>890</td>\n",
       "      <td>Arpita</td>\n",
       "      <td>45</td>\n",
       "    </tr>\n",
       "  </tbody>\n",
       "</table>\n",
       "</div>"
      ],
      "text/plain": [
       "    ID    Name  Profit\n",
       "0  405   Janvi      50\n",
       "1  509  Shiven      90\n",
       "2  890  Arpita      45"
      ]
     },
     "execution_count": 20,
     "metadata": {},
     "output_type": "execute_result"
    }
   ],
   "source": [
    "df2={'ID':['405','509','890'],'Name':['Janvi','Shiven','Arpita'],'Profit':[50,90,45]}\n",
    "df=pd.DataFrame(df2)\n",
    "df"
   ]
  },
  {
   "cell_type": "code",
   "execution_count": 21,
   "id": "c04b8b80",
   "metadata": {},
   "outputs": [
    {
     "data": {
      "text/plain": [
       "0    405\n",
       "1    509\n",
       "2    890\n",
       "Name: ID, dtype: object"
      ]
     },
     "execution_count": 21,
     "metadata": {},
     "output_type": "execute_result"
    }
   ],
   "source": [
    "df['ID']"
   ]
  },
  {
   "cell_type": "code",
   "execution_count": 22,
   "id": "7ed16842",
   "metadata": {},
   "outputs": [
    {
     "data": {
      "text/html": [
       "<div>\n",
       "<style scoped>\n",
       "    .dataframe tbody tr th:only-of-type {\n",
       "        vertical-align: middle;\n",
       "    }\n",
       "\n",
       "    .dataframe tbody tr th {\n",
       "        vertical-align: top;\n",
       "    }\n",
       "\n",
       "    .dataframe thead th {\n",
       "        text-align: right;\n",
       "    }\n",
       "</style>\n",
       "<table border=\"1\" class=\"dataframe\">\n",
       "  <thead>\n",
       "    <tr style=\"text-align: right;\">\n",
       "      <th></th>\n",
       "      <th>ID</th>\n",
       "      <th>Name</th>\n",
       "    </tr>\n",
       "  </thead>\n",
       "  <tbody>\n",
       "    <tr>\n",
       "      <th>0</th>\n",
       "      <td>405</td>\n",
       "      <td>Janvi</td>\n",
       "    </tr>\n",
       "    <tr>\n",
       "      <th>1</th>\n",
       "      <td>509</td>\n",
       "      <td>Shiven</td>\n",
       "    </tr>\n",
       "    <tr>\n",
       "      <th>2</th>\n",
       "      <td>890</td>\n",
       "      <td>Arpita</td>\n",
       "    </tr>\n",
       "  </tbody>\n",
       "</table>\n",
       "</div>"
      ],
      "text/plain": [
       "    ID    Name\n",
       "0  405   Janvi\n",
       "1  509  Shiven\n",
       "2  890  Arpita"
      ]
     },
     "execution_count": 22,
     "metadata": {},
     "output_type": "execute_result"
    }
   ],
   "source": [
    "df[[\"ID\",\"Name\"]]"
   ]
  },
  {
   "cell_type": "code",
   "execution_count": 30,
   "id": "6c60b34a",
   "metadata": {},
   "outputs": [
    {
     "data": {
      "text/html": [
       "<div>\n",
       "<style scoped>\n",
       "    .dataframe tbody tr th:only-of-type {\n",
       "        vertical-align: middle;\n",
       "    }\n",
       "\n",
       "    .dataframe tbody tr th {\n",
       "        vertical-align: top;\n",
       "    }\n",
       "\n",
       "    .dataframe thead th {\n",
       "        text-align: right;\n",
       "    }\n",
       "</style>\n",
       "<table border=\"1\" class=\"dataframe\">\n",
       "  <thead>\n",
       "    <tr style=\"text-align: right;\">\n",
       "      <th></th>\n",
       "      <th>Profit</th>\n",
       "    </tr>\n",
       "  </thead>\n",
       "  <tbody>\n",
       "    <tr>\n",
       "      <th>0</th>\n",
       "      <td>50</td>\n",
       "    </tr>\n",
       "    <tr>\n",
       "      <th>2</th>\n",
       "      <td>45</td>\n",
       "    </tr>\n",
       "  </tbody>\n",
       "</table>\n",
       "</div>"
      ],
      "text/plain": [
       "   Profit\n",
       "0      50\n",
       "2      45"
      ]
     },
     "execution_count": 30,
     "metadata": {},
     "output_type": "execute_result"
    }
   ],
   "source": [
    "df.drop(1)"
   ]
  }
 ],
 "metadata": {
  "kernelspec": {
   "display_name": "Python 3 (ipykernel)",
   "language": "python",
   "name": "python3"
  },
  "language_info": {
   "codemirror_mode": {
    "name": "ipython",
    "version": 3
   },
   "file_extension": ".py",
   "mimetype": "text/x-python",
   "name": "python",
   "nbconvert_exporter": "python",
   "pygments_lexer": "ipython3",
   "version": "3.11.5"
  }
 },
 "nbformat": 4,
 "nbformat_minor": 5
}
